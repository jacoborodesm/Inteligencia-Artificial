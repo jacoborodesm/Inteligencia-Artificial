{
  "nbformat": 4,
  "nbformat_minor": 0,
  "metadata": {
    "colab": {
      "provenance": []
    },
    "kernelspec": {
      "name": "python3",
      "display_name": "Python 3"
    },
    "language_info": {
      "name": "python"
    }
  },
  "cells": [
    {
      "cell_type": "markdown",
      "source": [
        "# Rodriguez_Esmoris_Jacobo_PIA_Tarea03\n",
        "## Programa tareas sencillas con Python en Colab"
      ],
      "metadata": {
        "id": "2vzZKu29ROU7"
      }
    },
    {
      "cell_type": "code",
      "execution_count": 70,
      "metadata": {
        "id": "FRj0xp6uDkrT"
      },
      "outputs": [],
      "source": [
        "import this"
      ]
    },
    {
      "cell_type": "markdown",
      "source": [
        "Creamos una **lista** con un conjunto de 10 ciudades"
      ],
      "metadata": {
        "id": "tyfGy0bGSouf"
      }
    },
    {
      "cell_type": "code",
      "source": [
        "misCiudades = [\"Coruña\",\"Lugo\",\"Ourense\",\"Pontevedra\",\"Sevilla\",\"Málaga\",\"Barcelona\",\"Pamplona\",\"Valencia\",\"Madrid\"]\n",
        "print(misCiudades)"
      ],
      "metadata": {
        "colab": {
          "base_uri": "https://localhost:8080/"
        },
        "id": "EXjixm0BD2Nq",
        "outputId": "3d38279e-f868-4fcf-f135-96a0d4ace4e1"
      },
      "execution_count": 71,
      "outputs": [
        {
          "output_type": "stream",
          "name": "stdout",
          "text": [
            "['Coruña', 'Lugo', 'Ourense', 'Pontevedra', 'Sevilla', 'Málaga', 'Barcelona', 'Pamplona', 'Valencia', 'Madrid']\n"
          ]
        }
      ]
    },
    {
      "cell_type": "markdown",
      "source": [
        "Creamos otra **lista** con un conjunto de 10 cantantes"
      ],
      "metadata": {
        "id": "yebuc6emS3bf"
      }
    },
    {
      "cell_type": "code",
      "source": [
        "misCantantes = [\"Mick Jagger\",\"Stevie Nicks\",\"Freddie Mercury\",\"Robert Plant\",\"Kurt Cobain\",\"David Byrne\",\"Debbie Harry\",\"Bono\",\"Axl Rose\",\"Matt Bellamy\"]\n",
        "print(misCantantes)"
      ],
      "metadata": {
        "colab": {
          "base_uri": "https://localhost:8080/"
        },
        "id": "X-0ExxAJEtKc",
        "outputId": "4f8f6ec8-b9b2-4df7-b2e4-1344e50b6d90"
      },
      "execution_count": 72,
      "outputs": [
        {
          "output_type": "stream",
          "name": "stdout",
          "text": [
            "['Mick Jagger', 'Stevie Nicks', 'Freddie Mercury', 'Robert Plant', 'Kurt Cobain', 'David Byrne', 'Debbie Harry', 'Bono', 'Axl Rose', 'Matt Bellamy']\n"
          ]
        }
      ]
    },
    {
      "cell_type": "markdown",
      "source": [
        "Creamos un **diccionario** que relacione los cantantes como *clave* y las ciudades como *valor*.\n",
        "\n",
        "Adjuntamos enlace de la función zip usada: https://www.programiz.com/python-programming/methods/built-in/zip\n"
      ],
      "metadata": {
        "id": "kfk-LhD-TEgu"
      }
    },
    {
      "cell_type": "code",
      "source": [
        "d1 = dict(zip(misCantantes, misCiudades))\n",
        "print(d1)"
      ],
      "metadata": {
        "colab": {
          "base_uri": "https://localhost:8080/"
        },
        "id": "1g1Eqd2pFqc7",
        "outputId": "001aff54-b63f-43a0-d679-8ab714ddea48"
      },
      "execution_count": 73,
      "outputs": [
        {
          "output_type": "stream",
          "name": "stdout",
          "text": [
            "{'Mick Jagger': 'Coruña', 'Stevie Nicks': 'Lugo', 'Freddie Mercury': 'Ourense', 'Robert Plant': 'Pontevedra', 'Kurt Cobain': 'Sevilla', 'David Byrne': 'Málaga', 'Debbie Harry': 'Barcelona', 'Bono': 'Pamplona', 'Axl Rose': 'Valencia', 'Matt Bellamy': 'Madrid'}\n"
          ]
        }
      ]
    },
    {
      "cell_type": "markdown",
      "source": [
        "Adjuntamos un ejemplo de la función zip()\n"
      ],
      "metadata": {
        "id": "9ESXn-uvT4R2"
      }
    },
    {
      "cell_type": "markdown",
      "source": [
        "![ejemplo zip.png](https://miro.medium.com/v2/resize:fit:936/1*JVDogkgWgf4yQ8CuSnyqrQ.png)"
      ],
      "metadata": {
        "id": "Y7zM9LOFVpP7"
      }
    },
    {
      "cell_type": "markdown",
      "source": [
        "En una nueva celda de código, escribe el código necesario para que, al ejecutarlo, **se muestre en pantalla \"Estos son los conciertos para esta semana: \" + relación de artistas y ciudades**"
      ],
      "metadata": {
        "id": "idaKoou0W4H6"
      }
    },
    {
      "cell_type": "code",
      "source": [
        "for key,value in d1.items():\n",
        "  print(\"Estos son los conciertos para esta semana:\",key,\",\",value)"
      ],
      "metadata": {
        "colab": {
          "base_uri": "https://localhost:8080/"
        },
        "id": "eWLC44HKGPIJ",
        "outputId": "6d1cd7b3-0f3d-40ff-c004-f756e4c756aa"
      },
      "execution_count": 76,
      "outputs": [
        {
          "output_type": "stream",
          "name": "stdout",
          "text": [
            "Estos son los conciertos para esta semana: Mick Jagger , Coruña\n",
            "Estos son los conciertos para esta semana: Stevie Nicks , Lugo\n",
            "Estos son los conciertos para esta semana: Freddie Mercury , Ourense\n",
            "Estos son los conciertos para esta semana: Robert Plant , Pontevedra\n",
            "Estos son los conciertos para esta semana: Kurt Cobain , Sevilla\n",
            "Estos son los conciertos para esta semana: David Byrne , Málaga\n",
            "Estos son los conciertos para esta semana: Debbie Harry , Barcelona\n",
            "Estos son los conciertos para esta semana: Bono , Pamplona\n",
            "Estos son los conciertos para esta semana: Axl Rose , Valencia\n",
            "Estos son los conciertos para esta semana: Matt Bellamy , Madrid\n"
          ]
        }
      ]
    },
    {
      "cell_type": "markdown",
      "source": [
        "En una nueva celda de código, escribe el código necesario para **cambiar a de ciudad a todos los artistas para un nuevo concierto de su gira. Vuelve a programar también que se muestre la relación de artistas y ciudades.**"
      ],
      "metadata": {
        "id": "mpGwkVYJXJmZ"
      }
    },
    {
      "cell_type": "code",
      "source": [
        "misCiudades.sort()\n",
        "d2 = dict(zip(misCantantes,misCiudades))\n",
        "for key,value in d2.items():\n",
        "  print(\"Estos son los conciertos para esta semana:\",key,\",\",value)"
      ],
      "metadata": {
        "colab": {
          "base_uri": "https://localhost:8080/"
        },
        "id": "cYWtyrxJNwTE",
        "outputId": "56da1446-0a54-4291-927d-97863a711d6a"
      },
      "execution_count": 75,
      "outputs": [
        {
          "output_type": "stream",
          "name": "stdout",
          "text": [
            "Estos son los conciertos para esta semana: Mick Jagger , Barcelona\n",
            "Estos son los conciertos para esta semana: Stevie Nicks , Coruña\n",
            "Estos son los conciertos para esta semana: Freddie Mercury , Lugo\n",
            "Estos son los conciertos para esta semana: Robert Plant , Madrid\n",
            "Estos son los conciertos para esta semana: Kurt Cobain , Málaga\n",
            "Estos son los conciertos para esta semana: David Byrne , Ourense\n",
            "Estos son los conciertos para esta semana: Debbie Harry , Pamplona\n",
            "Estos son los conciertos para esta semana: Bono , Pontevedra\n",
            "Estos son los conciertos para esta semana: Axl Rose , Sevilla\n",
            "Estos son los conciertos para esta semana: Matt Bellamy , Valencia\n"
          ]
        }
      ]
    }
  ]
}